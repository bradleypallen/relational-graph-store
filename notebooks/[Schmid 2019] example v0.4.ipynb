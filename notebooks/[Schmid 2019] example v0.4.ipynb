{
 "cells": [
  {
   "cell_type": "markdown",
   "id": "d658ce8a",
   "metadata": {},
   "source": [
    "# Implementing [Schmid 2019] using SQLite\n",
    "\n",
    "[Bradley P. Allen](https://www.bradleypallen.org), 2022-05-08"
   ]
  },
  {
   "cell_type": "markdown",
   "id": "6e232e71",
   "metadata": {},
   "source": [
    "## Overview\n",
    "\n",
    "This Python notebook gist contains a very simple implementation of a relational database approach to storing and querying labeled property graphs as described by Matthias Schmid of the University of Passau [[1]](https://dl.acm.org/doi/abs/10.1145/3366030.3366046)."
   ]
  },
  {
   "cell_type": "markdown",
   "id": "c4c4e3ca",
   "metadata": {},
   "source": [
    "## Preliminaries"
   ]
  },
  {
   "cell_type": "markdown",
   "id": "97a8fe93",
   "metadata": {},
   "source": [
    "### Python library imports\n",
    "\n",
    "First, we import some Python libraries. We'll use ```hashlib``` to give us an stable cryptographic hash for shredding edges into adjacency tables, ```pandas``` to print out query results in an attractive format, and Simon Willison's ```sqlite_utils``` to make the task of manipulating the SQLite database easy."
   ]
  },
  {
   "cell_type": "code",
   "execution_count": 1,
   "id": "e5908dbb",
   "metadata": {},
   "outputs": [],
   "source": [
    "import hashlib\n",
    "import pandas as pd\n",
    "from sqlite_utils import Database"
   ]
  },
  {
   "cell_type": "markdown",
   "id": "4b27ae79",
   "metadata": {},
   "source": [
    "### Demo database cleanup\n",
    "\n",
    "We'll also delete and recreate the SQLite database file we'll be using, just to keep things simple."
   ]
  },
  {
   "cell_type": "code",
   "execution_count": 2,
   "id": "e7f94060",
   "metadata": {},
   "outputs": [],
   "source": [
    "!rm -f test-v0.4.db"
   ]
  },
  {
   "cell_type": "code",
   "execution_count": 3,
   "id": "92ce3f4f",
   "metadata": {},
   "outputs": [],
   "source": [
    "db = Database('test-v0.4.db')"
   ]
  },
  {
   "cell_type": "markdown",
   "id": "a9d85305",
   "metadata": {},
   "source": [
    "### A simple function for hashing of edge labels to column pairs\n",
    "\n",
    "Schmid's approach, based on previous work ([[2]](https://d1wqtxts1xzle7.cloudfront.net/69945800/Building_an_efficient_RDF_store_over_a_r20210919-15810-1bebrk0-with-cover-page-v2.pdf?Expires=1652064544&Signature=DoStFyoFgEEBo5sRj1nCLaclUvoTXfhywyMcoytJNboAy~1Zf0LQi~SAeS1guJXpsi4QfS2F7Pbso3rK~U-VNPzJxMgY1mC0IgjoqcuXh025cmvKJJi-OTTb1S87tbBaEi0Dd20bf39-jaLdI1u97iDOdj88uUcaOC14m54DgxdMm9nc1FpZzM-DuyP-LWD-eyQ0qoNxZqjnCs48Tjb9RjAy3OgaAdXlEgLukQWJezhVdbkjzuG8Qh~egRpXzAAJurN4pUYk7F6UC~8Ep5IPm0Z1qO~kDCYuJ7MIAGuE-8Z9M1zb-BI3BHF7tgphspndjVhQQLX2R5JW4rjtQvNZfQ__&Key-Pair-Id=APKAJLOHF5GGSLRBV4ZA), [[3]](https://dl.acm.org/doi/abs/10.1145/2723372.2723732)), uses a graph coloring algorithm to derive a hashing function that avoids collisions in the adjacency tables. We didn't get around to doing that yet. Instead, collisions be damned; we'll just hash the edge label to one of ```NUMBER_OF_COLUMN_PAIRS``` column pairs. "
   ]
  },
  {
   "cell_type": "code",
   "execution_count": 4,
   "id": "c9a040f4",
   "metadata": {},
   "outputs": [],
   "source": [
    "NUMBER_OF_COLUMN_PAIRS = 100"
   ]
  },
  {
   "cell_type": "code",
   "execution_count": 5,
   "id": "595c2457",
   "metadata": {},
   "outputs": [],
   "source": [
    "def column_pair(label):\n",
    "    m = hashlib.md5()\n",
    "    m.update(str.encode(label))\n",
    "    digest = m.hexdigest()\n",
    "    n = int(digest, 16) % NUMBER_OF_COLUMN_PAIRS\n",
    "    return ( f'label_{n}', f'edges_{n}' )"
   ]
  },
  {
   "cell_type": "markdown",
   "id": "95813b08",
   "metadata": {},
   "source": [
    "### A utility function for generating adjacency tables from edges\n",
    "\n",
    "Schmid uses column triples in his adjacency table schema, with one column containing an array of edge ids, another column containing an array of target vertex ids, and a column containing the edge label common to all of those. His ```unshred_edges``` Common Table Expression (CTE) then uses PostgreSQL's ```UNNEST``` function to convert entries in the outgoing adjacency table to an intermediate result that enables subsequent CTEs or queries to process matching edges. Since SQLite doesn't have an equivalent to ```UNNEST```, instead we opt to use column pairs, one with the edge label and the other containing an array of JSON objects, each of which contains the edge and target vertex ids for a given edge that shares the edge label."
   ]
  },
  {
   "cell_type": "code",
   "execution_count": 6,
   "id": "d133e8ae",
   "metadata": {},
   "outputs": [],
   "source": [
    "def generate_adjacency_tables(db):\n",
    "    out_neighborhoods = {}\n",
    "    in_neighborhoods = {}\n",
    "    for row in db.execute(\"select sid, eid, tid, label from edge\").fetchall():\n",
    "        (sid, eid, tid, label) = row\n",
    "        label_column, edges_column = column_pair(label)\n",
    "\n",
    "        if sid not in out_neighborhoods:\n",
    "            out_neighborhoods[sid] = { 'vid': sid }\n",
    "        if label_column not in out_neighborhoods[sid]:\n",
    "            out_neighborhoods[sid][label_column] = label\n",
    "        if edges_column not in out_neighborhoods[sid]:\n",
    "            out_neighborhoods[sid][edges_column] = []\n",
    "        out_neighborhoods[sid][edges_column].append({ 'eid': eid, 'tid': tid })\n",
    "        \n",
    "        if tid not in in_neighborhoods:\n",
    "            in_neighborhoods[tid] = { 'vid': tid }\n",
    "        if label_column not in in_neighborhoods[tid]:\n",
    "            in_neighborhoods[tid][label_column] = label\n",
    "        if edges_column not in in_neighborhoods[tid]:\n",
    "            in_neighborhoods[tid][edges_column] = []\n",
    "        in_neighborhoods[tid][edges_column].append({ 'eid': eid, 'sid': sid })       \n",
    "        \n",
    "    db['outgoing'].insert_all([ out_neighborhoods[sid] for sid in out_neighborhoods ], pk='vid')\n",
    "    db['incoming'].insert_all([ in_neighborhoods[tid] for tid in in_neighborhoods ], pk='vid')"
   ]
  },
  {
   "cell_type": "markdown",
   "id": "cf59a2db",
   "metadata": {},
   "source": [
    "### A utility function for displaying result sets as Pandas DataFrames\n",
    "\n",
    "Just a little thing to display results in a more readable fashion than simply printing rows out."
   ]
  },
  {
   "cell_type": "code",
   "execution_count": 7,
   "id": "2c1d111d",
   "metadata": {},
   "outputs": [],
   "source": [
    "def as_dataframe(rows, columns=None):\n",
    "    df = pd.DataFrame( rows, columns=columns )\n",
    "    df.index = [''] * len(df)\n",
    "    return df"
   ]
  },
  {
   "cell_type": "markdown",
   "id": "260bd9f2",
   "metadata": {},
   "source": [
    "## Loading the graph\n",
    "\n",
    "We hew closely to the example in Schmid's paper, specifically the data shown in Tables 2, 3, and 4 of [[1]](https://dl.acm.org/doi/abs/10.1145/3366030.3366046)."
   ]
  },
  {
   "cell_type": "markdown",
   "id": "5e56af36",
   "metadata": {},
   "source": [
    "### The vertex table"
   ]
  },
  {
   "cell_type": "code",
   "execution_count": 8,
   "id": "bec3e80d",
   "metadata": {},
   "outputs": [
    {
     "data": {
      "text/plain": [
       "<Table vertex (vid, attributes)>"
      ]
     },
     "execution_count": 8,
     "metadata": {},
     "output_type": "execute_result"
    }
   ],
   "source": [
    "db['vertex'].insert_all([\n",
    "    { \"vid\": 1, \"attributes\": { \"lastName\": \"Mueller\", \"firstName\": \"David\" } },\n",
    "    { \"vid\": 2, \"attributes\": { \"lastName\": \"Choi\", \"firstName\": \"Jae-Jin\" } },\n",
    "    { \"vid\": 3, \"attributes\": { \"lastName\": \"Yamamoto\", \"firstName\": \"Akira\" } },\n",
    "    { \"vid\": 4, \"attributes\": { \"lastName\": \"Silva\", \"firstName\": \"Ana\" } },\n",
    "    { \"vid\": 5, \"attributes\": { \"lastName\": \"Poussin\", \"firstName\": \"Jacques\" } },\n",
    "    { \"vid\": 6, \"attributes\": { \"lastName\": \"Professorson\", \"firstName\": \"Derek\" } },\n",
    "    { \"vid\": 7, \"attributes\": { \"lastName\": \"Abadi\", \"firstName\": \"Madiha\" } },\n",
    "], pk='vid')"
   ]
  },
  {
   "cell_type": "code",
   "execution_count": 9,
   "id": "d2a4bbe6",
   "metadata": {},
   "outputs": [
    {
     "name": "stdout",
     "output_type": "stream",
     "text": [
      "CREATE TABLE [vertex] (\n",
      "   [vid] INTEGER PRIMARY KEY,\n",
      "   [attributes] TEXT\n",
      ")\n"
     ]
    }
   ],
   "source": [
    "print(db['vertex'].schema)"
   ]
  },
  {
   "cell_type": "code",
   "execution_count": 10,
   "id": "436ec81b",
   "metadata": {},
   "outputs": [
    {
     "data": {
      "text/html": [
       "<div>\n",
       "<style scoped>\n",
       "    .dataframe tbody tr th:only-of-type {\n",
       "        vertical-align: middle;\n",
       "    }\n",
       "\n",
       "    .dataframe tbody tr th {\n",
       "        vertical-align: top;\n",
       "    }\n",
       "\n",
       "    .dataframe thead th {\n",
       "        text-align: right;\n",
       "    }\n",
       "</style>\n",
       "<table border=\"1\" class=\"dataframe\">\n",
       "  <thead>\n",
       "    <tr style=\"text-align: right;\">\n",
       "      <th></th>\n",
       "      <th>vid</th>\n",
       "      <th>attributes</th>\n",
       "    </tr>\n",
       "  </thead>\n",
       "  <tbody>\n",
       "    <tr>\n",
       "      <th></th>\n",
       "      <td>1</td>\n",
       "      <td>{\"lastName\": \"Mueller\", \"firstName\": \"David\"}</td>\n",
       "    </tr>\n",
       "    <tr>\n",
       "      <th></th>\n",
       "      <td>2</td>\n",
       "      <td>{\"lastName\": \"Choi\", \"firstName\": \"Jae-Jin\"}</td>\n",
       "    </tr>\n",
       "    <tr>\n",
       "      <th></th>\n",
       "      <td>3</td>\n",
       "      <td>{\"lastName\": \"Yamamoto\", \"firstName\": \"Akira\"}</td>\n",
       "    </tr>\n",
       "    <tr>\n",
       "      <th></th>\n",
       "      <td>4</td>\n",
       "      <td>{\"lastName\": \"Silva\", \"firstName\": \"Ana\"}</td>\n",
       "    </tr>\n",
       "    <tr>\n",
       "      <th></th>\n",
       "      <td>5</td>\n",
       "      <td>{\"lastName\": \"Poussin\", \"firstName\": \"Jacques\"}</td>\n",
       "    </tr>\n",
       "    <tr>\n",
       "      <th></th>\n",
       "      <td>6</td>\n",
       "      <td>{\"lastName\": \"Professorson\", \"firstName\": \"Der...</td>\n",
       "    </tr>\n",
       "    <tr>\n",
       "      <th></th>\n",
       "      <td>7</td>\n",
       "      <td>{\"lastName\": \"Abadi\", \"firstName\": \"Madiha\"}</td>\n",
       "    </tr>\n",
       "  </tbody>\n",
       "</table>\n",
       "</div>"
      ],
      "text/plain": [
       "  vid                                         attributes\n",
       "    1      {\"lastName\": \"Mueller\", \"firstName\": \"David\"}\n",
       "    2       {\"lastName\": \"Choi\", \"firstName\": \"Jae-Jin\"}\n",
       "    3     {\"lastName\": \"Yamamoto\", \"firstName\": \"Akira\"}\n",
       "    4          {\"lastName\": \"Silva\", \"firstName\": \"Ana\"}\n",
       "    5    {\"lastName\": \"Poussin\", \"firstName\": \"Jacques\"}\n",
       "    6  {\"lastName\": \"Professorson\", \"firstName\": \"Der...\n",
       "    7       {\"lastName\": \"Abadi\", \"firstName\": \"Madiha\"}"
      ]
     },
     "execution_count": 10,
     "metadata": {},
     "output_type": "execute_result"
    }
   ],
   "source": [
    "as_dataframe( [ row for row in db['vertex'].rows ] )"
   ]
  },
  {
   "cell_type": "markdown",
   "id": "1afbe37f",
   "metadata": {},
   "source": [
    "### The edge table"
   ]
  },
  {
   "cell_type": "code",
   "execution_count": 11,
   "id": "8ae081d4",
   "metadata": {},
   "outputs": [
    {
     "data": {
      "text/plain": [
       "<Table edge (eid, sid, tid, label, attributes)>"
      ]
     },
     "execution_count": 11,
     "metadata": {},
     "output_type": "execute_result"
    }
   ],
   "source": [
    "db['edge'].insert_all([ \n",
    "    { \"eid\": 4, \"sid\": 1, \"tid\": 2, \"label\": \"knows\", \"attributes\": { \"since\": \"2018-06-14\" } },\n",
    "    { \"eid\": 5, \"sid\": 1, \"tid\": 3, \"label\": \"knows\", \"attributes\": { \"since\": \"2016-03-21\" } },\n",
    "    { \"eid\": 6, \"sid\": 2, \"tid\": 7, \"label\": \"likes\" },\n",
    "], pk='eid')"
   ]
  },
  {
   "cell_type": "code",
   "execution_count": 12,
   "id": "8d80445f",
   "metadata": {},
   "outputs": [
    {
     "name": "stdout",
     "output_type": "stream",
     "text": [
      "CREATE TABLE [edge] (\n",
      "   [eid] INTEGER PRIMARY KEY,\n",
      "   [sid] INTEGER,\n",
      "   [tid] INTEGER,\n",
      "   [label] TEXT,\n",
      "   [attributes] TEXT\n",
      ")\n"
     ]
    }
   ],
   "source": [
    "print(db['edge'].schema)"
   ]
  },
  {
   "cell_type": "code",
   "execution_count": 13,
   "id": "efa99a21",
   "metadata": {},
   "outputs": [
    {
     "data": {
      "text/html": [
       "<div>\n",
       "<style scoped>\n",
       "    .dataframe tbody tr th:only-of-type {\n",
       "        vertical-align: middle;\n",
       "    }\n",
       "\n",
       "    .dataframe tbody tr th {\n",
       "        vertical-align: top;\n",
       "    }\n",
       "\n",
       "    .dataframe thead th {\n",
       "        text-align: right;\n",
       "    }\n",
       "</style>\n",
       "<table border=\"1\" class=\"dataframe\">\n",
       "  <thead>\n",
       "    <tr style=\"text-align: right;\">\n",
       "      <th></th>\n",
       "      <th>eid</th>\n",
       "      <th>sid</th>\n",
       "      <th>tid</th>\n",
       "      <th>label</th>\n",
       "      <th>attributes</th>\n",
       "    </tr>\n",
       "  </thead>\n",
       "  <tbody>\n",
       "    <tr>\n",
       "      <th></th>\n",
       "      <td>4</td>\n",
       "      <td>1</td>\n",
       "      <td>2</td>\n",
       "      <td>knows</td>\n",
       "      <td>{\"since\": \"2018-06-14\"}</td>\n",
       "    </tr>\n",
       "    <tr>\n",
       "      <th></th>\n",
       "      <td>5</td>\n",
       "      <td>1</td>\n",
       "      <td>3</td>\n",
       "      <td>knows</td>\n",
       "      <td>{\"since\": \"2016-03-21\"}</td>\n",
       "    </tr>\n",
       "    <tr>\n",
       "      <th></th>\n",
       "      <td>6</td>\n",
       "      <td>2</td>\n",
       "      <td>7</td>\n",
       "      <td>likes</td>\n",
       "      <td>None</td>\n",
       "    </tr>\n",
       "  </tbody>\n",
       "</table>\n",
       "</div>"
      ],
      "text/plain": [
       "  eid  sid  tid  label               attributes\n",
       "    4    1    2  knows  {\"since\": \"2018-06-14\"}\n",
       "    5    1    3  knows  {\"since\": \"2016-03-21\"}\n",
       "    6    2    7  likes                     None"
      ]
     },
     "execution_count": 13,
     "metadata": {},
     "output_type": "execute_result"
    }
   ],
   "source": [
    "as_dataframe( [ row for row in db['edge'].rows ] )"
   ]
  },
  {
   "cell_type": "markdown",
   "id": "b5c9d709",
   "metadata": {},
   "source": [
    "### The adjacency tables"
   ]
  },
  {
   "cell_type": "code",
   "execution_count": 14,
   "id": "806fe1ee",
   "metadata": {},
   "outputs": [],
   "source": [
    "generate_adjacency_tables(db)"
   ]
  },
  {
   "cell_type": "code",
   "execution_count": 15,
   "id": "9d7877c8",
   "metadata": {},
   "outputs": [
    {
     "name": "stdout",
     "output_type": "stream",
     "text": [
      "CREATE TABLE [outgoing] (\n",
      "   [vid] INTEGER PRIMARY KEY,\n",
      "   [label_54] TEXT,\n",
      "   [edges_54] TEXT,\n",
      "   [label_38] TEXT,\n",
      "   [edges_38] TEXT\n",
      ")\n"
     ]
    }
   ],
   "source": [
    "print(db['outgoing'].schema)"
   ]
  },
  {
   "cell_type": "code",
   "execution_count": 16,
   "id": "9e500906",
   "metadata": {},
   "outputs": [
    {
     "data": {
      "text/html": [
       "<div>\n",
       "<style scoped>\n",
       "    .dataframe tbody tr th:only-of-type {\n",
       "        vertical-align: middle;\n",
       "    }\n",
       "\n",
       "    .dataframe tbody tr th {\n",
       "        vertical-align: top;\n",
       "    }\n",
       "\n",
       "    .dataframe thead th {\n",
       "        text-align: right;\n",
       "    }\n",
       "</style>\n",
       "<table border=\"1\" class=\"dataframe\">\n",
       "  <thead>\n",
       "    <tr style=\"text-align: right;\">\n",
       "      <th></th>\n",
       "      <th>vid</th>\n",
       "      <th>label_54</th>\n",
       "      <th>edges_54</th>\n",
       "      <th>label_38</th>\n",
       "      <th>edges_38</th>\n",
       "    </tr>\n",
       "  </thead>\n",
       "  <tbody>\n",
       "    <tr>\n",
       "      <th></th>\n",
       "      <td>1</td>\n",
       "      <td>knows</td>\n",
       "      <td>[{\"eid\": 4, \"tid\": 2}, {\"eid\": 5, \"tid\": 3}]</td>\n",
       "      <td>None</td>\n",
       "      <td>None</td>\n",
       "    </tr>\n",
       "    <tr>\n",
       "      <th></th>\n",
       "      <td>2</td>\n",
       "      <td>None</td>\n",
       "      <td>None</td>\n",
       "      <td>likes</td>\n",
       "      <td>[{\"eid\": 6, \"tid\": 7}]</td>\n",
       "    </tr>\n",
       "  </tbody>\n",
       "</table>\n",
       "</div>"
      ],
      "text/plain": [
       "  vid label_54                                      edges_54 label_38  \\\n",
       "    1    knows  [{\"eid\": 4, \"tid\": 2}, {\"eid\": 5, \"tid\": 3}]     None   \n",
       "    2     None                                          None    likes   \n",
       "\n",
       "                edges_38  \n",
       "                    None  \n",
       "  [{\"eid\": 6, \"tid\": 7}]  "
      ]
     },
     "execution_count": 16,
     "metadata": {},
     "output_type": "execute_result"
    }
   ],
   "source": [
    "as_dataframe( [ row for row in db['outgoing'].rows ] )"
   ]
  },
  {
   "cell_type": "code",
   "execution_count": 17,
   "id": "8308b575",
   "metadata": {},
   "outputs": [
    {
     "name": "stdout",
     "output_type": "stream",
     "text": [
      "CREATE TABLE [incoming] (\n",
      "   [vid] INTEGER PRIMARY KEY,\n",
      "   [label_54] TEXT,\n",
      "   [edges_54] TEXT,\n",
      "   [label_38] TEXT,\n",
      "   [edges_38] TEXT\n",
      ")\n"
     ]
    }
   ],
   "source": [
    "print(db['incoming'].schema)"
   ]
  },
  {
   "cell_type": "code",
   "execution_count": 18,
   "id": "3f9860e1",
   "metadata": {},
   "outputs": [
    {
     "data": {
      "text/html": [
       "<div>\n",
       "<style scoped>\n",
       "    .dataframe tbody tr th:only-of-type {\n",
       "        vertical-align: middle;\n",
       "    }\n",
       "\n",
       "    .dataframe tbody tr th {\n",
       "        vertical-align: top;\n",
       "    }\n",
       "\n",
       "    .dataframe thead th {\n",
       "        text-align: right;\n",
       "    }\n",
       "</style>\n",
       "<table border=\"1\" class=\"dataframe\">\n",
       "  <thead>\n",
       "    <tr style=\"text-align: right;\">\n",
       "      <th></th>\n",
       "      <th>vid</th>\n",
       "      <th>label_54</th>\n",
       "      <th>edges_54</th>\n",
       "      <th>label_38</th>\n",
       "      <th>edges_38</th>\n",
       "    </tr>\n",
       "  </thead>\n",
       "  <tbody>\n",
       "    <tr>\n",
       "      <th></th>\n",
       "      <td>2</td>\n",
       "      <td>knows</td>\n",
       "      <td>[{\"eid\": 4, \"sid\": 1}]</td>\n",
       "      <td>None</td>\n",
       "      <td>None</td>\n",
       "    </tr>\n",
       "    <tr>\n",
       "      <th></th>\n",
       "      <td>3</td>\n",
       "      <td>knows</td>\n",
       "      <td>[{\"eid\": 5, \"sid\": 1}]</td>\n",
       "      <td>None</td>\n",
       "      <td>None</td>\n",
       "    </tr>\n",
       "    <tr>\n",
       "      <th></th>\n",
       "      <td>7</td>\n",
       "      <td>None</td>\n",
       "      <td>None</td>\n",
       "      <td>likes</td>\n",
       "      <td>[{\"eid\": 6, \"sid\": 2}]</td>\n",
       "    </tr>\n",
       "  </tbody>\n",
       "</table>\n",
       "</div>"
      ],
      "text/plain": [
       "  vid label_54                edges_54 label_38                edges_38\n",
       "    2    knows  [{\"eid\": 4, \"sid\": 1}]     None                    None\n",
       "    3    knows  [{\"eid\": 5, \"sid\": 1}]     None                    None\n",
       "    7     None                    None    likes  [{\"eid\": 6, \"sid\": 2}]"
      ]
     },
     "execution_count": 18,
     "metadata": {},
     "output_type": "execute_result"
    }
   ],
   "source": [
    "as_dataframe( [ row for row in db['incoming'].rows ] )"
   ]
  },
  {
   "cell_type": "markdown",
   "id": "b8d4f99a",
   "metadata": {},
   "source": [
    "## Querying the graph"
   ]
  },
  {
   "cell_type": "markdown",
   "id": "a61e390d",
   "metadata": {},
   "source": [
    "### A utility function for generating a CTE for edges with targets in the out neighborhood of a given vertex and edge label\n",
    "\n",
    "Here we define generate a Common Table Expression (CTE) corresponding to the combination of ```unshred_edges``` and ```gather_edges``` in Schmid's article, with the source vertex id and edge label as arguments."
   ]
  },
  {
   "cell_type": "code",
   "execution_count": 19,
   "id": "d5834c39",
   "metadata": {},
   "outputs": [],
   "source": [
    "def out_neighborhood_cte(vid, label):\n",
    "    label_column, edges_column = column_pair(label)\n",
    "    return (\n",
    "        f'select vid, json_extract(value, \"$.eid\") as eid, {label_column} as label,'\n",
    "        ' json_extract(value, \"$.tid\") as tid' \n",
    "        f' from outgoing, json_each(outgoing.{edges_column})'\n",
    "        f' where vid = {vid} and {label_column} = \"{label}\"'\n",
    "    )"
   ]
  },
  {
   "cell_type": "code",
   "execution_count": 20,
   "id": "c3207745",
   "metadata": {},
   "outputs": [
    {
     "data": {
      "text/html": [
       "<div>\n",
       "<style scoped>\n",
       "    .dataframe tbody tr th:only-of-type {\n",
       "        vertical-align: middle;\n",
       "    }\n",
       "\n",
       "    .dataframe tbody tr th {\n",
       "        vertical-align: top;\n",
       "    }\n",
       "\n",
       "    .dataframe thead th {\n",
       "        text-align: right;\n",
       "    }\n",
       "</style>\n",
       "<table border=\"1\" class=\"dataframe\">\n",
       "  <thead>\n",
       "    <tr style=\"text-align: right;\">\n",
       "      <th></th>\n",
       "      <th>vid</th>\n",
       "      <th>eid</th>\n",
       "      <th>label</th>\n",
       "      <th>tid</th>\n",
       "    </tr>\n",
       "  </thead>\n",
       "  <tbody>\n",
       "    <tr>\n",
       "      <th></th>\n",
       "      <td>1</td>\n",
       "      <td>4</td>\n",
       "      <td>knows</td>\n",
       "      <td>2</td>\n",
       "    </tr>\n",
       "    <tr>\n",
       "      <th></th>\n",
       "      <td>1</td>\n",
       "      <td>5</td>\n",
       "      <td>knows</td>\n",
       "      <td>3</td>\n",
       "    </tr>\n",
       "  </tbody>\n",
       "</table>\n",
       "</div>"
      ],
      "text/plain": [
       "  vid  eid  label  tid\n",
       "    1    4  knows    2\n",
       "    1    5  knows    3"
      ]
     },
     "execution_count": 20,
     "metadata": {},
     "output_type": "execute_result"
    }
   ],
   "source": [
    "as_dataframe([ row for row in db.execute(out_neighborhood_cte(1, \"knows\")).fetchall() ],\n",
    "             columns=['vid', 'eid', 'label', 'tid'] )"
   ]
  },
  {
   "cell_type": "code",
   "execution_count": 21,
   "id": "3cf0f5c2",
   "metadata": {},
   "outputs": [
    {
     "data": {
      "text/html": [
       "<div>\n",
       "<style scoped>\n",
       "    .dataframe tbody tr th:only-of-type {\n",
       "        vertical-align: middle;\n",
       "    }\n",
       "\n",
       "    .dataframe tbody tr th {\n",
       "        vertical-align: top;\n",
       "    }\n",
       "\n",
       "    .dataframe thead th {\n",
       "        text-align: right;\n",
       "    }\n",
       "</style>\n",
       "<table border=\"1\" class=\"dataframe\">\n",
       "  <thead>\n",
       "    <tr style=\"text-align: right;\">\n",
       "      <th></th>\n",
       "      <th>vid</th>\n",
       "      <th>eid</th>\n",
       "      <th>label</th>\n",
       "      <th>tid</th>\n",
       "    </tr>\n",
       "  </thead>\n",
       "  <tbody>\n",
       "    <tr>\n",
       "      <th></th>\n",
       "      <td>2</td>\n",
       "      <td>6</td>\n",
       "      <td>likes</td>\n",
       "      <td>7</td>\n",
       "    </tr>\n",
       "  </tbody>\n",
       "</table>\n",
       "</div>"
      ],
      "text/plain": [
       "  vid  eid  label  tid\n",
       "    2    6  likes    7"
      ]
     },
     "execution_count": 21,
     "metadata": {},
     "output_type": "execute_result"
    }
   ],
   "source": [
    "as_dataframe([ row for row in db.execute(out_neighborhood_cte(2, \"likes\")).fetchall() ],\n",
    "             columns=['vid', 'eid', 'label', 'tid'] )"
   ]
  },
  {
   "cell_type": "markdown",
   "id": "f8ebfe6f",
   "metadata": {},
   "source": [
    "### Who does David Mueller know?"
   ]
  },
  {
   "cell_type": "code",
   "execution_count": 22,
   "id": "720091d1",
   "metadata": {},
   "outputs": [],
   "source": [
    "query_1 = (\n",
    "    f'with unshred_edges as ( {out_neighborhood_cte(1, \"knows\")} ),'\n",
    "    ' targets as ( select tid from unshred_edges )'\n",
    "    ' select json_extract(attributes, \"$.lastName\"),'\n",
    "    ' json_extract(attributes, \"$.firstName\")'\n",
    "    ' from vertex, targets where vertex.vid = tid'\n",
    ")"
   ]
  },
  {
   "cell_type": "code",
   "execution_count": 23,
   "id": "a86cad78",
   "metadata": {},
   "outputs": [
    {
     "data": {
      "text/html": [
       "<div>\n",
       "<style scoped>\n",
       "    .dataframe tbody tr th:only-of-type {\n",
       "        vertical-align: middle;\n",
       "    }\n",
       "\n",
       "    .dataframe tbody tr th {\n",
       "        vertical-align: top;\n",
       "    }\n",
       "\n",
       "    .dataframe thead th {\n",
       "        text-align: right;\n",
       "    }\n",
       "</style>\n",
       "<table border=\"1\" class=\"dataframe\">\n",
       "  <thead>\n",
       "    <tr style=\"text-align: right;\">\n",
       "      <th></th>\n",
       "      <th>lastName</th>\n",
       "      <th>firstName</th>\n",
       "    </tr>\n",
       "  </thead>\n",
       "  <tbody>\n",
       "    <tr>\n",
       "      <th></th>\n",
       "      <td>Choi</td>\n",
       "      <td>Jae-Jin</td>\n",
       "    </tr>\n",
       "    <tr>\n",
       "      <th></th>\n",
       "      <td>Yamamoto</td>\n",
       "      <td>Akira</td>\n",
       "    </tr>\n",
       "  </tbody>\n",
       "</table>\n",
       "</div>"
      ],
      "text/plain": [
       "  lastName firstName\n",
       "      Choi   Jae-Jin\n",
       "  Yamamoto     Akira"
      ]
     },
     "execution_count": 23,
     "metadata": {},
     "output_type": "execute_result"
    }
   ],
   "source": [
    "as_dataframe( [ row for row in db.execute(query_1).fetchall() ],\n",
    "             columns=['lastName', 'firstName'] )"
   ]
  },
  {
   "cell_type": "markdown",
   "id": "dbcf6320",
   "metadata": {},
   "source": [
    "### Who do people David Mueller knows like? "
   ]
  },
  {
   "cell_type": "markdown",
   "id": "a81476a3",
   "metadata": {},
   "source": [
    "#### Using the edge table"
   ]
  },
  {
   "cell_type": "code",
   "execution_count": 24,
   "id": "a323e687",
   "metadata": {},
   "outputs": [],
   "source": [
    "query_2 = (\n",
    "    f'select json_extract(vertex.attributes, \"$.lastName\"),'\n",
    "    ' json_extract(vertex.attributes, \"$.firstName\")'\n",
    "    ' from vertex, edge as e1, edge as e2 where'\n",
    "    ' e1.sid = 1 and'\n",
    "    ' e1.label = \"knows\" and'\n",
    "    ' e2.sid = e1.tid and'\n",
    "    ' e2.label = \"likes\" and'\n",
    "    ' vertex.vid = e2.tid'\n",
    ")"
   ]
  },
  {
   "cell_type": "code",
   "execution_count": 25,
   "id": "845d7bbd",
   "metadata": {},
   "outputs": [
    {
     "data": {
      "text/html": [
       "<div>\n",
       "<style scoped>\n",
       "    .dataframe tbody tr th:only-of-type {\n",
       "        vertical-align: middle;\n",
       "    }\n",
       "\n",
       "    .dataframe tbody tr th {\n",
       "        vertical-align: top;\n",
       "    }\n",
       "\n",
       "    .dataframe thead th {\n",
       "        text-align: right;\n",
       "    }\n",
       "</style>\n",
       "<table border=\"1\" class=\"dataframe\">\n",
       "  <thead>\n",
       "    <tr style=\"text-align: right;\">\n",
       "      <th></th>\n",
       "      <th>lastName</th>\n",
       "      <th>firstName</th>\n",
       "    </tr>\n",
       "  </thead>\n",
       "  <tbody>\n",
       "    <tr>\n",
       "      <th></th>\n",
       "      <td>Abadi</td>\n",
       "      <td>Madiha</td>\n",
       "    </tr>\n",
       "  </tbody>\n",
       "</table>\n",
       "</div>"
      ],
      "text/plain": [
       " lastName firstName\n",
       "    Abadi    Madiha"
      ]
     },
     "execution_count": 25,
     "metadata": {},
     "output_type": "execute_result"
    }
   ],
   "source": [
    "as_dataframe( [ row for row in db.execute(query_2).fetchall() ],\n",
    "             columns=['lastName', 'firstName'] )"
   ]
  },
  {
   "cell_type": "markdown",
   "id": "21ad3b81",
   "metadata": {},
   "source": [
    "#### Using the outgoing (adjacency) table"
   ]
  },
  {
   "cell_type": "code",
   "execution_count": 28,
   "id": "de6151d3",
   "metadata": {},
   "outputs": [],
   "source": [
    "query_3 = (\n",
    "    f'with knows_edges as ( {out_neighborhood_cte(1, \"knows\")} ),'\n",
    "    ' likes_edges as (select outgoing.vid as vid, json_extract(value, \"$.eid\") as eid, label_38 as label, json_extract(value, \"$.tid\") as tid from knows_edges, outgoing, json_each(outgoing.edges_38) where outgoing.vid = knows_edges.tid and label_38 = \"likes\"),'\n",
    "    ' targets as ( select tid from likes_edges )'\n",
    "    ' select json_extract(attributes, \"$.lastName\"),'\n",
    "    ' json_extract(attributes, \"$.firstName\")'\n",
    "    ' from vertex, targets where vertex.vid = tid'\n",
    ")"
   ]
  },
  {
   "cell_type": "code",
   "execution_count": 29,
   "id": "12890fdb",
   "metadata": {},
   "outputs": [
    {
     "data": {
      "text/html": [
       "<div>\n",
       "<style scoped>\n",
       "    .dataframe tbody tr th:only-of-type {\n",
       "        vertical-align: middle;\n",
       "    }\n",
       "\n",
       "    .dataframe tbody tr th {\n",
       "        vertical-align: top;\n",
       "    }\n",
       "\n",
       "    .dataframe thead th {\n",
       "        text-align: right;\n",
       "    }\n",
       "</style>\n",
       "<table border=\"1\" class=\"dataframe\">\n",
       "  <thead>\n",
       "    <tr style=\"text-align: right;\">\n",
       "      <th></th>\n",
       "      <th>lastName</th>\n",
       "      <th>firstName</th>\n",
       "    </tr>\n",
       "  </thead>\n",
       "  <tbody>\n",
       "    <tr>\n",
       "      <th></th>\n",
       "      <td>Abadi</td>\n",
       "      <td>Madiha</td>\n",
       "    </tr>\n",
       "  </tbody>\n",
       "</table>\n",
       "</div>"
      ],
      "text/plain": [
       " lastName firstName\n",
       "    Abadi    Madiha"
      ]
     },
     "execution_count": 29,
     "metadata": {},
     "output_type": "execute_result"
    }
   ],
   "source": [
    "as_dataframe( [ row for row in db.execute(query_3).fetchall() ],\n",
    "             columns=['lastName', 'firstName'] )"
   ]
  },
  {
   "cell_type": "markdown",
   "id": "8d2b0cfe",
   "metadata": {},
   "source": [
    "### Who has David Mueller known the longest?"
   ]
  },
  {
   "cell_type": "code",
   "execution_count": 30,
   "id": "5022871f",
   "metadata": {},
   "outputs": [],
   "source": [
    "query_4 = (\n",
    "    f'with unshred_edges as ( {out_neighborhood_cte(1, \"knows\")} ),'\n",
    "    ' targets as ( select eid, tid from unshred_edges )'\n",
    "    ' select json_extract(vertex.attributes, \"$.lastName\"),'\n",
    "    ' json_extract(vertex.attributes, \"$.firstName\"),'\n",
    "    ' min(json_extract(edge.attributes, \"$.since\"))'\n",
    "    ' from vertex, edge, targets where vertex.vid = targets.tid and edge.eid = targets.eid'\n",
    ")"
   ]
  },
  {
   "cell_type": "code",
   "execution_count": 31,
   "id": "38c761f5",
   "metadata": {},
   "outputs": [
    {
     "data": {
      "text/html": [
       "<div>\n",
       "<style scoped>\n",
       "    .dataframe tbody tr th:only-of-type {\n",
       "        vertical-align: middle;\n",
       "    }\n",
       "\n",
       "    .dataframe tbody tr th {\n",
       "        vertical-align: top;\n",
       "    }\n",
       "\n",
       "    .dataframe thead th {\n",
       "        text-align: right;\n",
       "    }\n",
       "</style>\n",
       "<table border=\"1\" class=\"dataframe\">\n",
       "  <thead>\n",
       "    <tr style=\"text-align: right;\">\n",
       "      <th></th>\n",
       "      <th>lastName</th>\n",
       "      <th>firstName</th>\n",
       "      <th>since</th>\n",
       "    </tr>\n",
       "  </thead>\n",
       "  <tbody>\n",
       "    <tr>\n",
       "      <th></th>\n",
       "      <td>Yamamoto</td>\n",
       "      <td>Akira</td>\n",
       "      <td>2016-03-21</td>\n",
       "    </tr>\n",
       "  </tbody>\n",
       "</table>\n",
       "</div>"
      ],
      "text/plain": [
       "  lastName firstName       since\n",
       "  Yamamoto     Akira  2016-03-21"
      ]
     },
     "execution_count": 31,
     "metadata": {},
     "output_type": "execute_result"
    }
   ],
   "source": [
    "as_dataframe( [ row for row in db.execute(query_4).fetchall() ],\n",
    "             columns=['lastName', 'firstName', 'since'] )"
   ]
  },
  {
   "cell_type": "markdown",
   "id": "4fcd22ae",
   "metadata": {},
   "source": [
    "### How many \"knows\" edges are there?"
   ]
  },
  {
   "cell_type": "code",
   "execution_count": 32,
   "id": "d71afec5",
   "metadata": {},
   "outputs": [],
   "source": [
    "query_5 = f'select count(eid) from edge where label = \"knows\"'"
   ]
  },
  {
   "cell_type": "code",
   "execution_count": 33,
   "id": "247f0533",
   "metadata": {},
   "outputs": [
    {
     "data": {
      "text/plain": [
       "2"
      ]
     },
     "execution_count": 33,
     "metadata": {},
     "output_type": "execute_result"
    }
   ],
   "source": [
    "db.execute(query_5).fetchone()[0]"
   ]
  },
  {
   "cell_type": "markdown",
   "id": "27036a6d",
   "metadata": {},
   "source": [
    "### How many \"knows\" edges were created since 2017?"
   ]
  },
  {
   "cell_type": "code",
   "execution_count": 34,
   "id": "cf7bb29f",
   "metadata": {},
   "outputs": [],
   "source": [
    "query_6 = (\n",
    "    f'select count(eid) '\n",
    "    'from edge where label = \"knows\" and '\n",
    "    'json_extract(edge.attributes, \"$.since\") > \"2017\"'\n",
    ")"
   ]
  },
  {
   "cell_type": "code",
   "execution_count": 35,
   "id": "94537c55",
   "metadata": {},
   "outputs": [
    {
     "data": {
      "text/plain": [
       "1"
      ]
     },
     "execution_count": 35,
     "metadata": {},
     "output_type": "execute_result"
    }
   ],
   "source": [
    "db.execute(query_6).fetchone()[0]"
   ]
  },
  {
   "cell_type": "markdown",
   "id": "58a8dbe6",
   "metadata": {},
   "source": [
    "### How many vertices have last names that start with the letter \"P\"?"
   ]
  },
  {
   "cell_type": "code",
   "execution_count": 36,
   "id": "59bf1184",
   "metadata": {},
   "outputs": [],
   "source": [
    "query_7 = f'select count(vid) from vertex where json_extract(vertex.attributes, \"$.lastName\") LIKE \"P%\"'"
   ]
  },
  {
   "cell_type": "code",
   "execution_count": 37,
   "id": "8de788ac",
   "metadata": {},
   "outputs": [
    {
     "data": {
      "text/plain": [
       "2"
      ]
     },
     "execution_count": 37,
     "metadata": {},
     "output_type": "execute_result"
    }
   ],
   "source": [
    "db.execute(query_7).fetchone()[0]"
   ]
  },
  {
   "cell_type": "markdown",
   "id": "0d4d4c53",
   "metadata": {},
   "source": [
    "## References\n",
    "\n",
    "[[1]](https://dl.acm.org/doi/abs/10.1145/3366030.3366046) Schmid, M., 2019, December. On efficiently storing huge property graphs in relational database management systems. In Proceedings of the 21st International Conference on Information Integration and Web-based Applications & Services (pp. 344-352).\n",
    "\n",
    "[[2]](https://d1wqtxts1xzle7.cloudfront.net/69945800/Building_an_efficient_RDF_store_over_a_r20210919-15810-1bebrk0-with-cover-page-v2.pdf?Expires=1652064544&Signature=DoStFyoFgEEBo5sRj1nCLaclUvoTXfhywyMcoytJNboAy~1Zf0LQi~SAeS1guJXpsi4QfS2F7Pbso3rK~U-VNPzJxMgY1mC0IgjoqcuXh025cmvKJJi-OTTb1S87tbBaEi0Dd20bf39-jaLdI1u97iDOdj88uUcaOC14m54DgxdMm9nc1FpZzM-DuyP-LWD-eyQ0qoNxZqjnCs48Tjb9RjAy3OgaAdXlEgLukQWJezhVdbkjzuG8Qh~egRpXzAAJurN4pUYk7F6UC~8Ep5IPm0Z1qO~kDCYuJ7MIAGuE-8Z9M1zb-BI3BHF7tgphspndjVhQQLX2R5JW4rjtQvNZfQ__&Key-Pair-Id=APKAJLOHF5GGSLRBV4ZA) Bornea, M.A., Dolby, J., Kementsietsidis, A., Srinivas, K., Dantressangle, P., Udrea, O. and Bhattacharjee, B., 2013, June. Building an efficient RDF store over a relational database. In Proceedings of the 2013 ACM SIGMOD International Conference on Management of Data (pp. 121-132).\n",
    "\n",
    "[[3]](https://dl.acm.org/doi/abs/10.1145/2723372.2723732) Sun, W., Fokoue, A., Srinivas, K., Kementsietsidis, A., Hu, G. and Xie, G., 2015, May. Sqlgraph: An efficient relational-based property graph store. In Proceedings of the 2015 ACM SIGMOD International Conference on Management of Data (pp. 1887-1901)."
   ]
  }
 ],
 "metadata": {
  "kernelspec": {
   "display_name": "Python 3 (ipykernel)",
   "language": "python",
   "name": "python3"
  },
  "language_info": {
   "codemirror_mode": {
    "name": "ipython",
    "version": 3
   },
   "file_extension": ".py",
   "mimetype": "text/x-python",
   "name": "python",
   "nbconvert_exporter": "python",
   "pygments_lexer": "ipython3",
   "version": "3.11.4"
  }
 },
 "nbformat": 4,
 "nbformat_minor": 5
}
